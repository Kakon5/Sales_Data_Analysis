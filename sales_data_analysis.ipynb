{
 "cells": [
  {
   "cell_type": "code",
   "execution_count": 193,
   "id": "564b1d8f",
   "metadata": {},
   "outputs": [],
   "source": [
    "import pandas as pd\n",
    "import matplotlib.pyplot as plt"
   ]
  },
  {
   "cell_type": "code",
   "execution_count": 194,
   "id": "0b812b30",
   "metadata": {},
   "outputs": [
    {
     "name": "stdout",
     "output_type": "stream",
     "text": [
      "      Row ID        Order ID  Order Date   Ship Date       Ship Mode  \\\n",
      "0          1  CA-2017-152156   8/11/2017  11/11/2017    Second Class   \n",
      "1          2  CA-2017-152156   8/11/2017  11/11/2017    Second Class   \n",
      "2          3  CA-2017-138688   12/6/2017  16/06/2017    Second Class   \n",
      "3          4  US-2016-108966  11/10/2016  18/10/2016  Standard Class   \n",
      "4          5  US-2016-108966  11/10/2016  18/10/2016  Standard Class   \n",
      "...      ...             ...         ...         ...             ...   \n",
      "9795    9796  CA-2017-125920  21/05/2017  28/05/2017  Standard Class   \n",
      "9796    9797  CA-2016-128608   12/1/2016  17/01/2016  Standard Class   \n",
      "9797    9798  CA-2016-128608   12/1/2016  17/01/2016  Standard Class   \n",
      "9798    9799  CA-2016-128608   12/1/2016  17/01/2016  Standard Class   \n",
      "9799    9800  CA-2016-128608   12/1/2016  17/01/2016  Standard Class   \n",
      "\n",
      "     Customer ID     Customer Name    Segment        Country             City  \\\n",
      "0       CG-12520       Claire Gute   Consumer  United States        Henderson   \n",
      "1       CG-12520       Claire Gute   Consumer  United States        Henderson   \n",
      "2       DV-13045   Darrin Van Huff  Corporate  United States      Los Angeles   \n",
      "3       SO-20335    Sean O'Donnell   Consumer  United States  Fort Lauderdale   \n",
      "4       SO-20335    Sean O'Donnell   Consumer  United States  Fort Lauderdale   \n",
      "...          ...               ...        ...            ...              ...   \n",
      "9795    SH-19975     Sally Hughsby  Corporate  United States          Chicago   \n",
      "9796    CS-12490  Cindy Schnelling  Corporate  United States           Toledo   \n",
      "9797    CS-12490  Cindy Schnelling  Corporate  United States           Toledo   \n",
      "9798    CS-12490  Cindy Schnelling  Corporate  United States           Toledo   \n",
      "9799    CS-12490  Cindy Schnelling  Corporate  United States           Toledo   \n",
      "\n",
      "           State  Postal Code   Region       Product ID         Category  \\\n",
      "0       Kentucky      42420.0    South  FUR-BO-10001798        Furniture   \n",
      "1       Kentucky      42420.0    South  FUR-CH-10000454        Furniture   \n",
      "2     California      90036.0     West  OFF-LA-10000240  Office Supplies   \n",
      "3        Florida      33311.0    South  FUR-TA-10000577        Furniture   \n",
      "4        Florida      33311.0    South  OFF-ST-10000760  Office Supplies   \n",
      "...          ...          ...      ...              ...              ...   \n",
      "9795    Illinois      60610.0  Central  OFF-BI-10003429  Office Supplies   \n",
      "9796        Ohio      43615.0     East  OFF-AR-10001374  Office Supplies   \n",
      "9797        Ohio      43615.0     East  TEC-PH-10004977       Technology   \n",
      "9798        Ohio      43615.0     East  TEC-PH-10000912       Technology   \n",
      "9799        Ohio      43615.0     East  TEC-AC-10000487       Technology   \n",
      "\n",
      "     Sub-Category                                       Product Name     Sales  \n",
      "0       Bookcases                  Bush Somerset Collection Bookcase  261.9600  \n",
      "1          Chairs  Hon Deluxe Fabric Upholstered Stacking Chairs,...  731.9400  \n",
      "2          Labels  Self-Adhesive Address Labels for Typewriters b...   14.6200  \n",
      "3          Tables      Bretford CR4500 Series Slim Rectangular Table  957.5775  \n",
      "4         Storage                     Eldon Fold 'N Roll Cart System   22.3680  \n",
      "...           ...                                                ...       ...  \n",
      "9795      Binders  Cardinal HOLDit! Binder Insert Strips,Extra St...    3.7980  \n",
      "9796          Art           BIC Brite Liner Highlighters, Chisel Tip   10.3680  \n",
      "9797       Phones                                        GE 30524EE4  235.1880  \n",
      "9798       Phones           Anker 24W Portable Micro USB Car Charger   26.3760  \n",
      "9799  Accessories                SanDisk Cruzer 4 GB USB Flash Drive   10.3840  \n",
      "\n",
      "[9789 rows x 18 columns]\n"
     ]
    }
   ],
   "source": [
    "df = pd.read_csv('sales_data.csv')\n",
    "df = df.dropna()\n",
    "print(df)"
   ]
  },
  {
   "cell_type": "markdown",
   "id": "730c37b5",
   "metadata": {},
   "source": [
    "# Finding top 10 most selling product"
   ]
  },
  {
   "cell_type": "code",
   "execution_count": 195,
   "id": "23da9469",
   "metadata": {},
   "outputs": [
    {
     "data": {
      "text/plain": [
       "1860"
      ]
     },
     "execution_count": 195,
     "metadata": {},
     "output_type": "execute_result"
    }
   ],
   "source": [
    "# total product with unique id in the dataset\n",
    "len(df['Product ID'].unique())"
   ]
  },
  {
   "cell_type": "code",
   "execution_count": 196,
   "id": "382ee76b",
   "metadata": {
    "scrolled": true
   },
   "outputs": [
    {
     "name": "stdout",
     "output_type": "stream",
     "text": [
      "        product_id\n",
      "0  OFF-PA-10001970\n",
      "1  TEC-AC-10003832\n",
      "2  FUR-FU-10004270\n",
      "3  TEC-AC-10002049\n",
      "4  TEC-AC-10003628\n",
      "5  FUR-CH-10002647\n",
      "6  FUR-CH-10002880\n",
      "7  FUR-FU-10001473\n",
      "8  FUR-CH-10001146\n",
      "9  FUR-CH-10003774\n"
     ]
    }
   ],
   "source": [
    "# finding top 10 most ordered products\n",
    "n = 10\n",
    "top_sales = df['Product ID'].value_counts()[:n].index.tolist()\n",
    "top_sales_df = pd.DataFrame(top_sales, columns = ['product_id'])\n",
    "print(top_sales_df)"
   ]
  },
  {
   "cell_type": "code",
   "execution_count": 199,
   "id": "d742ff8f",
   "metadata": {},
   "outputs": [],
   "source": [
    "# calculating the sum of sales amount by product_id\n",
    "for i in top_sales_df['product_id']:\n",
    "    top_sales_df.loc[top_sales_df.product_id == i, 'total_sales']= df['Sales'][df['Product ID'].str.contains(i)].sum()"
   ]
  },
  {
   "cell_type": "code",
   "execution_count": 200,
   "id": "d0a75d1a",
   "metadata": {},
   "outputs": [
    {
     "data": {
      "text/html": [
       "<div>\n",
       "<style scoped>\n",
       "    .dataframe tbody tr th:only-of-type {\n",
       "        vertical-align: middle;\n",
       "    }\n",
       "\n",
       "    .dataframe tbody tr th {\n",
       "        vertical-align: top;\n",
       "    }\n",
       "\n",
       "    .dataframe thead th {\n",
       "        text-align: right;\n",
       "    }\n",
       "</style>\n",
       "<table border=\"1\" class=\"dataframe\">\n",
       "  <thead>\n",
       "    <tr style=\"text-align: right;\">\n",
       "      <th></th>\n",
       "      <th>product_id</th>\n",
       "      <th>total_sales</th>\n",
       "    </tr>\n",
       "  </thead>\n",
       "  <tbody>\n",
       "    <tr>\n",
       "      <th>0</th>\n",
       "      <td>OFF-PA-10001970</td>\n",
       "      <td>2155.068</td>\n",
       "    </tr>\n",
       "    <tr>\n",
       "      <th>1</th>\n",
       "      <td>TEC-AC-10003832</td>\n",
       "      <td>11203.756</td>\n",
       "    </tr>\n",
       "    <tr>\n",
       "      <th>2</th>\n",
       "      <td>FUR-FU-10004270</td>\n",
       "      <td>426.560</td>\n",
       "    </tr>\n",
       "    <tr>\n",
       "      <th>3</th>\n",
       "      <td>TEC-AC-10002049</td>\n",
       "      <td>13756.536</td>\n",
       "    </tr>\n",
       "    <tr>\n",
       "      <th>4</th>\n",
       "      <td>TEC-AC-10003628</td>\n",
       "      <td>1409.530</td>\n",
       "    </tr>\n",
       "    <tr>\n",
       "      <th>5</th>\n",
       "      <td>FUR-CH-10002647</td>\n",
       "      <td>3641.274</td>\n",
       "    </tr>\n",
       "    <tr>\n",
       "      <th>6</th>\n",
       "      <td>FUR-CH-10002880</td>\n",
       "      <td>5436.158</td>\n",
       "    </tr>\n",
       "    <tr>\n",
       "      <th>7</th>\n",
       "      <td>FUR-FU-10001473</td>\n",
       "      <td>839.676</td>\n",
       "    </tr>\n",
       "    <tr>\n",
       "      <th>8</th>\n",
       "      <td>FUR-CH-10001146</td>\n",
       "      <td>2247.176</td>\n",
       "    </tr>\n",
       "    <tr>\n",
       "      <th>9</th>\n",
       "      <td>FUR-CH-10003774</td>\n",
       "      <td>4166.884</td>\n",
       "    </tr>\n",
       "  </tbody>\n",
       "</table>\n",
       "</div>"
      ],
      "text/plain": [
       "        product_id  total_sales\n",
       "0  OFF-PA-10001970     2155.068\n",
       "1  TEC-AC-10003832    11203.756\n",
       "2  FUR-FU-10004270      426.560\n",
       "3  TEC-AC-10002049    13756.536\n",
       "4  TEC-AC-10003628     1409.530\n",
       "5  FUR-CH-10002647     3641.274\n",
       "6  FUR-CH-10002880     5436.158\n",
       "7  FUR-FU-10001473      839.676\n",
       "8  FUR-CH-10001146     2247.176\n",
       "9  FUR-CH-10003774     4166.884"
      ]
     },
     "execution_count": 200,
     "metadata": {},
     "output_type": "execute_result"
    }
   ],
   "source": [
    "top_sales_df"
   ]
  },
  {
   "cell_type": "code",
   "execution_count": 202,
   "id": "cac19371",
   "metadata": {},
   "outputs": [
    {
     "data": {
      "text/plain": [
       "Text(0, 0.5, 'Sales amount')"
      ]
     },
     "execution_count": 202,
     "metadata": {},
     "output_type": "execute_result"
    },
    {
     "data": {
      "image/png": "[encoded data removed]",
      "text/plain": [
       "<Figure size 432x288 with 1 Axes>"
      ]
     },
     "metadata": {
      "needs_background": "light"
     },
     "output_type": "display_data"
    }
   ],
   "source": [
    "# drawing a plot \"product vs sales amount\"\n",
    "ax = top_sales_df.plot.bar(title='Top 10 most selling product')\n",
    "ax.set_xticklabels(top_sales_df['product_id'])\n",
    "ax.set_xlabel(\"Product ID\")\n",
    "ax.set_ylabel(\"Sales amount\")"
   ]
  },
  {
   "cell_type": "markdown",
   "id": "bd26ba26",
   "metadata": {},
   "source": [
    "# Finding total sales amount yearly"
   ]
  },
  {
   "cell_type": "code",
   "execution_count": 208,
   "id": "9bdd00b1",
   "metadata": {
    "scrolled": true
   },
   "outputs": [
    {
     "name": "stdout",
     "output_type": "stream",
     "text": [
      "   year\n",
      "0  2017\n",
      "1  2016\n",
      "2  2015\n",
      "3  2018\n"
     ]
    }
   ],
   "source": [
    "# convert order date to pandas datetime format\n",
    "df['Order Date'] = pd.to_datetime(df['Order Date'])\n",
    "# inserting a year column in the dataframe by taking only year value from order date \n",
    "df['Year'] = pd.DatetimeIndex(df['Order Date']).year\n",
    "# finding unique years \n",
    "sales_by_year = df['Year'].drop_duplicates().tolist()\n",
    "sales_by_year_df = pd.DataFrame(sales_by_year, columns = ['year'])\n",
    "print(sales_by_year_df)"
   ]
  },
  {
   "cell_type": "code",
   "execution_count": 210,
   "id": "74b670ea",
   "metadata": {},
   "outputs": [],
   "source": [
    "# calculating sum of sales yearly\n",
    "for i in sales_by_year_df['year']:\n",
    "    sales_by_year_df.loc[sales_by_year_df.year == i, 'total_sales']= df['Sales'][df['Year'].astype(str).str.contains(str(i))].sum()"
   ]
  },
  {
   "cell_type": "code",
   "execution_count": 211,
   "id": "0a30fa0a",
   "metadata": {},
   "outputs": [
    {
     "name": "stdout",
     "output_type": "stream",
     "text": [
      "   year  total_sales\n",
      "2  2015  479856.2081\n",
      "1  2016  454315.9054\n",
      "0  2017  597225.4900\n",
      "3  2018  721209.8092\n"
     ]
    }
   ],
   "source": [
    "# sort rows yearly\n",
    "sales_by_year_df.sort_values(by = 'year', inplace = True)\n",
    "print(sales_by_year_df)"
   ]
  },
  {
   "cell_type": "code",
   "execution_count": 212,
   "id": "a5439185",
   "metadata": {},
   "outputs": [
    {
     "data": {
      "image/png": "[encoded data removed]",
      "text/plain": [
       "<Figure size 432x288 with 1 Axes>"
      ]
     },
     "metadata": {
      "needs_background": "light"
     },
     "output_type": "display_data"
    }
   ],
   "source": [
    "# drawing a plot \"year vs sales amount\"\n",
    "ax = sales_by_year_df.plot.bar(title='Sales amount yearly', color = 'c')\n",
    "ax.set_xticklabels(sales_by_year_df['year'])\n",
    "ax.set_xlabel(\"Year\")\n",
    "ax.set_ylabel(\"Sales amount\")\n",
    "ax.get_legend().remove()"
   ]
  },
  {
   "cell_type": "markdown",
   "id": "b4497600",
   "metadata": {},
   "source": [
    "# Finding total sales amount by state"
   ]
  },
  {
   "cell_type": "code",
   "execution_count": 213,
   "id": "0a245d5a",
   "metadata": {},
   "outputs": [
    {
     "name": "stdout",
     "output_type": "stream",
     "text": [
      "                   state\n",
      "0               Kentucky\n",
      "1             California\n",
      "2                Florida\n",
      "3         North Carolina\n",
      "4             Washington\n",
      "5                  Texas\n",
      "6              Wisconsin\n",
      "7                   Utah\n",
      "8               Nebraska\n",
      "9           Pennsylvania\n",
      "10              Illinois\n",
      "11             Minnesota\n",
      "12              Michigan\n",
      "13              Delaware\n",
      "14               Indiana\n",
      "15              New York\n",
      "16               Arizona\n",
      "17              Virginia\n",
      "18             Tennessee\n",
      "19               Alabama\n",
      "20        South Carolina\n",
      "21                Oregon\n",
      "22              Colorado\n",
      "23                  Iowa\n",
      "24                  Ohio\n",
      "25              Missouri\n",
      "26              Oklahoma\n",
      "27            New Mexico\n",
      "28             Louisiana\n",
      "29           Connecticut\n",
      "30            New Jersey\n",
      "31         Massachusetts\n",
      "32               Georgia\n",
      "33                Nevada\n",
      "34          Rhode Island\n",
      "35           Mississippi\n",
      "36              Arkansas\n",
      "37               Montana\n",
      "38         New Hampshire\n",
      "39              Maryland\n",
      "40  District of Columbia\n",
      "41                Kansas\n",
      "42                 Maine\n",
      "43          South Dakota\n",
      "44                 Idaho\n",
      "45          North Dakota\n",
      "46               Wyoming\n",
      "47         West Virginia\n"
     ]
    }
   ],
   "source": [
    "# selecting unique state values\n",
    "sales_by_state = df['State'].unique().tolist()\n",
    "sales_by_state_df = pd.DataFrame(sales_by_state, columns = ['state'])\n",
    "print(sales_by_state_df)"
   ]
  },
  {
   "cell_type": "code",
   "execution_count": 215,
   "id": "32aefb92",
   "metadata": {},
   "outputs": [],
   "source": [
    "# calculating sum of sales by state\n",
    "for i in sales_by_state_df['state']:\n",
    "    sales_by_state_df.loc[sales_by_state_df.state == i, 'total_sales']= df['Sales'][df['State'].str.contains(i)].sum()"
   ]
  },
  {
   "cell_type": "code",
   "execution_count": 216,
   "id": "45de3274",
   "metadata": {},
   "outputs": [],
   "source": [
    "# sorting dataframe by sales amount\n",
    "sales_by_state_df.sort_values(by = 'total_sales', ascending=False, inplace = True)\n",
    "# selecting top 15 most selling by state\n",
    "sales_by_state_df = sales_by_state_df.head(15)"
   ]
  },
  {
   "cell_type": "code",
   "execution_count": 217,
   "id": "d1840fcc",
   "metadata": {
    "scrolled": false
   },
   "outputs": [
    {
     "data": {
      "image/png": "[encoded data removed]",
      "text/plain": [
       "<Figure size 720x432 with 1 Axes>"
      ]
     },
     "metadata": {
      "needs_background": "light"
     },
     "output_type": "display_data"
    }
   ],
   "source": [
    "# drawing a plot \"state vs sales amount\"\n",
    "ax = sales_by_state_df.plot.bar(title='Top 15 most selling by state', color = 'y', figsize=(10, 6))\n",
    "ax.set_xticklabels(sales_by_state_df['state'])\n",
    "ax.set_xlabel(\"State\")\n",
    "ax.set_ylabel(\"Sales amount\")\n",
    "ax.get_legend().remove()"
   ]
  }
 ],
 "metadata": {
  "kernelspec": {
   "display_name": "Python 3 (ipykernel)",
   "language": "python",
   "name": "python3"
  },
  "language_info": {
   "codemirror_mode": {
    "name": "ipython",
    "version": 3
   },
   "file_extension": ".py",
   "mimetype": "text/x-python",
   "name": "python",
   "nbconvert_exporter": "python",
   "pygments_lexer": "ipython3",
   "version": "3.8.10"
  }
 },
 "nbformat": 4,
 "nbformat_minor": 5
}
